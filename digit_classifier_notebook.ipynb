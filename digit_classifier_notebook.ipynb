{
  "nbformat": 4,
  "nbformat_minor": 0,
  "metadata": {
    "colab": {
      "provenance": []
    },
    "kernelspec": {
      "name": "python3",
      "display_name": "Python 3"
    },
    "language_info": {
      "name": "python"
    }
  },
  "cells": [
    {
      "cell_type": "markdown",
      "source": [
        "# MNIST Digit Classifier — Model Training & Backend Integration\n",
        "\n",
        "This notebook trains a CNN model on the MNIST dataset for digit classification.  \n",
        "The trained model is later used in a Flask backend that powers a web application.\n",
        "\n",
        "#project by Aarav Singla\n"
      ],
      "metadata": {
        "id": "HPeABFYNAcLS"
      }
    },
    {
      "cell_type": "code",
      "source": [
        "import tensorflow as tf\n",
        "from tensorflow.keras.models import Sequential\n",
        "from tensorflow.keras.layers import Conv2D, MaxPooling2D, Flatten, Dense\n",
        "from tensorflow.keras.utils import to_categorical\n",
        "from tensorflow.keras.datasets import mnist\n",
        "import numpy as np\n"
      ],
      "metadata": {
        "id": "NErMvjyiAqGG"
      },
      "execution_count": 1,
      "outputs": []
    },
    {
      "cell_type": "markdown",
      "source": [
        "We begin by importing TensorFlow and required components from Keras.  \n",
        "We also load the MNIST dataset, which contains 70,000 28×28 grayscale images of handwritten digits (0–9).\n"
      ],
      "metadata": {
        "id": "lf5LpV5pAzdX"
      }
    },
    {
      "cell_type": "code",
      "source": [
        "(x_train, y_train), (x_test, y_test) = mnist.load_data()\n",
        "\n",
        "x_train = x_train.reshape(-1, 28, 28, 1).astype(\"float32\") / 255\n",
        "x_test = x_test.reshape(-1, 28, 28, 1).astype(\"float32\") / 255\n",
        "\n",
        "y_train = to_categorical(y_train, 10)\n",
        "y_test = to_categorical(y_test, 10)\n"
      ],
      "metadata": {
        "id": "k5BdLA0tA2Ut"
      },
      "execution_count": 2,
      "outputs": []
    },
    {
      "cell_type": "markdown",
      "source": [
        "We normalize pixel values to the [0, 1] range and reshape the data to fit CNN input requirements.\n",
        "Labels are one-hot encoded to be compatible with `categorical_crossentropy` loss.\n"
      ],
      "metadata": {
        "id": "gMFjX4jvA91c"
      }
    },
    {
      "cell_type": "code",
      "source": [
        "model = Sequential([\n",
        "    Conv2D(32, (3, 3), activation='relu', input_shape=(28, 28, 1)),\n",
        "    MaxPooling2D(),\n",
        "    Flatten(),\n",
        "    Dense(128, activation='relu'),\n",
        "    Dense(10, activation='softmax')\n",
        "])\n"
      ],
      "metadata": {
        "colab": {
          "base_uri": "https://localhost:8080/"
        },
        "id": "16D3MCSyBAuM",
        "outputId": "fef870e6-d5ab-4ab6-9ce0-7ee710b1af38"
      },
      "execution_count": 3,
      "outputs": [
        {
          "output_type": "stream",
          "name": "stderr",
          "text": [
            "/usr/local/lib/python3.11/dist-packages/keras/src/layers/convolutional/base_conv.py:107: UserWarning: Do not pass an `input_shape`/`input_dim` argument to a layer. When using Sequential models, prefer using an `Input(shape)` object as the first layer in the model instead.\n",
            "  super().__init__(activity_regularizer=activity_regularizer, **kwargs)\n"
          ]
        }
      ]
    },
    {
      "cell_type": "markdown",
      "source": [
        "We use a basic CNN with:\n",
        "- One convolutional + max-pooling layer\n",
        "- A dense hidden layer\n",
        "- A softmax output layer with 10 units (for digits 0–9)\n",
        "\n",
        "This architecture balances simplicity and high accuracy on MNIST.\n"
      ],
      "metadata": {
        "id": "DWElge83BD47"
      }
    },
    {
      "cell_type": "code",
      "source": [
        "model.compile(optimizer='adam', loss='categorical_crossentropy', metrics=['accuracy'])\n",
        "\n",
        "history = model.fit(x_train, y_train, validation_data=(x_test, y_test), epochs=5)\n"
      ],
      "metadata": {
        "colab": {
          "base_uri": "https://localhost:8080/"
        },
        "id": "v7Q6SzMZBGWw",
        "outputId": "cff43572-fa34-4ff8-a75c-e959265fae8b"
      },
      "execution_count": 4,
      "outputs": [
        {
          "output_type": "stream",
          "name": "stdout",
          "text": [
            "Epoch 1/5\n",
            "\u001b[1m1875/1875\u001b[0m \u001b[32m━━━━━━━━━━━━━━━━━━━━\u001b[0m\u001b[37m\u001b[0m \u001b[1m43s\u001b[0m 23ms/step - accuracy: 0.9154 - loss: 0.2879 - val_accuracy: 0.9781 - val_loss: 0.0649\n",
            "Epoch 2/5\n",
            "\u001b[1m1875/1875\u001b[0m \u001b[32m━━━━━━━━━━━━━━━━━━━━\u001b[0m\u001b[37m\u001b[0m \u001b[1m44s\u001b[0m 23ms/step - accuracy: 0.9832 - loss: 0.0542 - val_accuracy: 0.9853 - val_loss: 0.0453\n",
            "Epoch 3/5\n",
            "\u001b[1m1875/1875\u001b[0m \u001b[32m━━━━━━━━━━━━━━━━━━━━\u001b[0m\u001b[37m\u001b[0m \u001b[1m42s\u001b[0m 22ms/step - accuracy: 0.9907 - loss: 0.0297 - val_accuracy: 0.9835 - val_loss: 0.0558\n",
            "Epoch 4/5\n",
            "\u001b[1m1875/1875\u001b[0m \u001b[32m━━━━━━━━━━━━━━━━━━━━\u001b[0m\u001b[37m\u001b[0m \u001b[1m44s\u001b[0m 23ms/step - accuracy: 0.9938 - loss: 0.0186 - val_accuracy: 0.9865 - val_loss: 0.0430\n",
            "Epoch 5/5\n",
            "\u001b[1m1875/1875\u001b[0m \u001b[32m━━━━━━━━━━━━━━━━━━━━\u001b[0m\u001b[37m\u001b[0m \u001b[1m79s\u001b[0m 22ms/step - accuracy: 0.9960 - loss: 0.0118 - val_accuracy: 0.9841 - val_loss: 0.0531\n"
          ]
        }
      ]
    },
    {
      "cell_type": "markdown",
      "source": [
        "We use the Adam optimizer and categorical cross-entropy loss.\n",
        "The model is trained for 5 epochs with validation on the test set.\n"
      ],
      "metadata": {
        "id": "x0iTgNFrBKVf"
      }
    },
    {
      "cell_type": "code",
      "source": [
        "test_loss, test_accuracy = model.evaluate(x_test, y_test)\n",
        "print(f\"Test Accuracy: {test_accuracy:.4f}\")\n"
      ],
      "metadata": {
        "colab": {
          "base_uri": "https://localhost:8080/"
        },
        "id": "ettyAX4_BM3t",
        "outputId": "87fa431c-a7b0-4be4-92dc-f759ae394ff8"
      },
      "execution_count": 5,
      "outputs": [
        {
          "output_type": "stream",
          "name": "stdout",
          "text": [
            "\u001b[1m313/313\u001b[0m \u001b[32m━━━━━━━━━━━━━━━━━━━━\u001b[0m\u001b[37m\u001b[0m \u001b[1m2s\u001b[0m 6ms/step - accuracy: 0.9806 - loss: 0.0637\n",
            "Test Accuracy: 0.9841\n"
          ]
        }
      ]
    },
    {
      "cell_type": "markdown",
      "source": [
        "We evaluate the trained model's performance on unseen test data.\n",
        "Typical accuracy for this architecture on MNIST is ~98%.\n"
      ],
      "metadata": {
        "id": "PSsroSoFBOEf"
      }
    },
    {
      "cell_type": "code",
      "source": [
        "model.save(\"model.h5\")\n"
      ],
      "metadata": {
        "colab": {
          "base_uri": "https://localhost:8080/"
        },
        "id": "R87oeE0bBQRb",
        "outputId": "80d8a996-abba-4f4d-ac53-250a468d2f37"
      },
      "execution_count": 6,
      "outputs": [
        {
          "output_type": "stream",
          "name": "stderr",
          "text": [
            "WARNING:absl:You are saving your model as an HDF5 file via `model.save()` or `keras.saving.save_model(model)`. This file format is considered legacy. We recommend using instead the native Keras format, e.g. `model.save('my_model.keras')` or `keras.saving.save_model(model, 'my_model.keras')`. \n"
          ]
        }
      ]
    },
    {
      "cell_type": "markdown",
      "source": [
        "The trained model is saved in `.h5` format, which is later loaded in the Flask backend for real-time predictions.\n"
      ],
      "metadata": {
        "id": "ZMjo2Tk6BSgI"
      }
    },
    {
      "cell_type": "markdown",
      "source": [
        "### ✅ Model Summary\n",
        "\n",
        "- Dataset: MNIST (28×28 grayscale images of handwritten digits)\n",
        "- Model: CNN with 1 Conv2D layer + Dense layers\n",
        "- Activation: ReLU and softmax\n",
        "- Loss Function: Categorical Crossentropy\n",
        "- Optimizer: Adam\n",
        "- Accuracy: ~98% on test data\n",
        "- Export Format: `.h5` (Keras HDF5 model)\n"
      ],
      "metadata": {
        "id": "JrFMHVkqBWZd"
      }
    },
    {
      "cell_type": "code",
      "source": [
        "import matplotlib.pyplot as plt\n",
        "\n",
        "plt.plot(history.history['accuracy'], label='train acc')\n",
        "plt.plot(history.history['val_accuracy'], label='val acc')\n",
        "plt.title('Model Accuracy')\n",
        "plt.xlabel('Epoch')\n",
        "plt.ylabel('Accuracy')\n",
        "plt.legend()\n",
        "plt.show()\n"
      ],
      "metadata": {
        "colab": {
          "base_uri": "https://localhost:8080/",
          "height": 472
        },
        "id": "u4TD3NKbBxF6",
        "outputId": "09c9c020-dd91-4b11-ca7e-fc63cce46fdc"
      },
      "execution_count": 7,
      "outputs": [
        {
          "output_type": "display_data",
          "data": {
            "text/plain": [
              "<Figure size 640x480 with 1 Axes>"
            ],
            "image/png": "[encoded data removed]"
          },
          "metadata": {}
        }
      ]
    },
    {
      "cell_type": "markdown",
      "source": [
        "### 🔌 Flask Backend Integration\n",
        "\n",
        "The saved model is used in a Flask server which exposes a `/predict` endpoint.  \n",
        "This endpoint:\n",
        "- Accepts uploaded images via POST requests\n",
        "- Preprocesses and resizes the image\n",
        "- Loads the saved `model.h5`\n",
        "- Returns prediction and confidence in JSON\n",
        "\n",
        "This backend powers the React UI in the web app.\n"
      ],
      "metadata": {
        "id": "nPYLlYjnCmGE"
      }
    }
  ]
}